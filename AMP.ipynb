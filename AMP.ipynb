{
 "cells": [
  {
   "cell_type": "markdown",
   "metadata": {
    "toc": true
   },
   "source": [
    "<h1>Table of Contents<span class=\"tocSkip\"></span></h1>\n",
    "<div class=\"toc\"><ul class=\"toc-item\"><li><span><a href=\"#Packages\" data-toc-modified-id=\"Packages-1\"><span class=\"toc-item-num\">1&nbsp;&nbsp;</span>Packages</a></span></li><li><span><a href=\"#Data\" data-toc-modified-id=\"Data-2\"><span class=\"toc-item-num\">2&nbsp;&nbsp;</span>Data</a></span></li><li><span><a href=\"#Plan\" data-toc-modified-id=\"Plan-3\"><span class=\"toc-item-num\">3&nbsp;&nbsp;</span>Plan</a></span></li><li><span><a href=\"#Brownian-motion\" data-toc-modified-id=\"Brownian-motion-4\"><span class=\"toc-item-num\">4&nbsp;&nbsp;</span>Brownian motion</a></span></li><li><span><a href=\"#Monte-Carlo\" data-toc-modified-id=\"Monte-Carlo-5\"><span class=\"toc-item-num\">5&nbsp;&nbsp;</span>Monte Carlo</a></span><ul class=\"toc-item\"><li><span><a href=\"#UDF\" data-toc-modified-id=\"UDF-5.1\"><span class=\"toc-item-num\">5.1&nbsp;&nbsp;</span>UDF</a></span></li><li><span><a href=\"#Computations\" data-toc-modified-id=\"Computations-5.2\"><span class=\"toc-item-num\">5.2&nbsp;&nbsp;</span>Computations</a></span></li><li><span><a href=\"#Previously-computed\" data-toc-modified-id=\"Previously-computed-5.3\"><span class=\"toc-item-num\">5.3&nbsp;&nbsp;</span>Previously computed</a></span></li></ul></li><li><span><a href=\"#LETF\" data-toc-modified-id=\"LETF-6\"><span class=\"toc-item-num\">6&nbsp;&nbsp;</span>LETF</a></span><ul class=\"toc-item\"><li><span><a href=\"#UDF\" data-toc-modified-id=\"UDF-6.1\"><span class=\"toc-item-num\">6.1&nbsp;&nbsp;</span>UDF</a></span></li><li><span><a href=\"#Analysis\" data-toc-modified-id=\"Analysis-6.2\"><span class=\"toc-item-num\">6.2&nbsp;&nbsp;</span>Analysis</a></span></li></ul></li></ul></div>"
   ]
  },
  {
   "cell_type": "markdown",
   "metadata": {},
   "source": [
    "## Packages"
   ]
  },
  {
   "cell_type": "code",
   "execution_count": 2,
   "metadata": {
    "ExecuteTime": {
     "end_time": "2021-04-24T21:36:00.091451Z",
     "start_time": "2021-04-24T21:35:58.399098Z"
    }
   },
   "outputs": [],
   "source": [
    "import pandas as pd\n",
    "import numpy as np\n",
    "import random\n",
    "from matplotlib import pyplot as plt\n",
    "import sys"
   ]
  },
  {
   "cell_type": "markdown",
   "metadata": {},
   "source": [
    "## Data"
   ]
  },
  {
   "cell_type": "markdown",
   "metadata": {
    "ExecuteTime": {
     "end_time": "2021-02-27T13:59:11.491434Z",
     "start_time": "2021-02-27T13:59:07.070987Z"
    }
   },
   "source": [
    "We load prepared in xlsx file data for the underlyings TR"
   ]
  },
  {
   "cell_type": "code",
   "execution_count": 3,
   "metadata": {
    "ExecuteTime": {
     "end_time": "2021-04-24T21:36:02.865198Z",
     "start_time": "2021-04-24T21:36:02.856181Z"
    }
   },
   "outputs": [],
   "source": [
    "link = 'Data/Underlyings from ICE.xlsx'"
   ]
  },
  {
   "cell_type": "code",
   "execution_count": 4,
   "metadata": {
    "ExecuteTime": {
     "end_time": "2021-04-24T21:36:03.463158Z",
     "start_time": "2021-04-24T21:36:03.233656Z"
    }
   },
   "outputs": [],
   "source": [
    "Data = pd.read_excel(io=link, index_col=0, parse_dates=True)\n",
    "\n",
    "# Calulate log difference\n",
    "Data['logdif_7_10'] = np.log(Data.Under_7_10) - np.log(Data.Under_7_10.shift(1)) \n",
    "Data['logdif_20'] = np.log(Data.Under_20) - np.log(Data.Under_20.shift(1)) "
   ]
  },
  {
   "cell_type": "markdown",
   "metadata": {},
   "source": [
    "For the Brownian Motion, we will calculate mean/volatility"
   ]
  },
  {
   "cell_type": "code",
   "execution_count": 5,
   "metadata": {
    "ExecuteTime": {
     "end_time": "2021-04-24T21:36:04.983461Z",
     "start_time": "2021-04-24T21:36:04.972981Z"
    }
   },
   "outputs": [],
   "source": [
    "Parameters = {}\n",
    "\n",
    "Parameters['All years'] = [Data.Under_7_10[-1],\n",
    "                             Data.logdif_7_10.mean(),\n",
    "                             Data.logdif_7_10.std()]\n",
    "\n",
    "# Make horizon of 3 years\n",
    "Data2 = Data.loc['2019-02-28':'2021-02-28']\n",
    "\n",
    "Parameters['Three years'] = [Data2.Under_7_10[-1],\n",
    "                             Data2.logdif_7_10.mean(),\n",
    "                             Data2.logdif_7_10.std()]"
   ]
  },
  {
   "cell_type": "code",
   "execution_count": 6,
   "metadata": {
    "ExecuteTime": {
     "end_time": "2021-04-24T21:36:07.666395Z",
     "start_time": "2021-04-24T21:36:07.648159Z"
    }
   },
   "outputs": [
    {
     "data": {
      "text/plain": [
       "{'All years': [119.914, 0.00016162673084323253, 0.0035037171053943997],\n",
       " 'Three years': [119.914, 0.0002516561380959002, 0.003814277497601597]}"
      ]
     },
     "execution_count": 6,
     "metadata": {},
     "output_type": "execute_result"
    }
   ],
   "source": [
    "Parameters"
   ]
  },
  {
   "cell_type": "markdown",
   "metadata": {},
   "source": [
    "## Plan"
   ]
  },
  {
   "cell_type": "markdown",
   "metadata": {},
   "source": [
    "- Create Brownian motion, with simulation\n",
    "- Create LETF and rebalance\n",
    "- Create Monte Carlo"
   ]
  },
  {
   "cell_type": "markdown",
   "metadata": {},
   "source": [
    "## Brownian motion"
   ]
  },
  {
   "cell_type": "code",
   "execution_count": 7,
   "metadata": {
    "ExecuteTime": {
     "end_time": "2021-04-24T21:36:16.711761Z",
     "start_time": "2021-04-24T21:36:16.701751Z"
    }
   },
   "outputs": [],
   "source": [
    "# UDF to generate error terms ( need for simple)\n",
    "def Create_Errors(what,horizon):\n",
    "    \n",
    "    if what == 'Stand Norm':\n",
    "\n",
    "        Stand_Residuals = [random.gauss(0,1) for x in range(horizon)]\n",
    "\n",
    "    return Stand_Residuals"
   ]
  },
  {
   "cell_type": "code",
   "execution_count": 8,
   "metadata": {
    "ExecuteTime": {
     "end_time": "2021-04-24T21:36:17.075058Z",
     "start_time": "2021-04-24T21:36:17.065578Z"
    }
   },
   "outputs": [],
   "source": [
    "class Brownian_Motion(): # Currently for constant mu and sigma\n",
    "    \n",
    "    def __init__(self,Inital_Price, TimeDelta, mu, sigma):\n",
    "        \n",
    "        self.Inital_Price = float(Inital_Price)\n",
    "        self.TimeDelta = int(TimeDelta)\n",
    "        self.mu = float(mu)\n",
    "        self.sigma = float(sigma)\n",
    "        \n",
    "    def Simulate_Prices(self,epsilons):\n",
    "        \n",
    "        predited_prices = []\n",
    "        predited_prices.append([0,self.Inital_Price])\n",
    "        \n",
    "        for i, epsilon in enumerate(epsilons,start=1):\n",
    "            \n",
    "            if len(predited_prices) == 1:\n",
    "                \n",
    "                num1 = (self.mu - np.power(self.sigma,2)/2)*self.TimeDelta \n",
    "                num2 = self.sigma*epsilon*np.sqrt(self.TimeDelta)\n",
    "\n",
    "                iPrice = self.Inital_Price*np.exp(num1-num2)\n",
    "\n",
    "                predited_prices.append([i,iPrice])\n",
    "                \n",
    "            else:\n",
    "                \n",
    "                num1 = (self.mu - np.power(self.sigma,2)/2)*self.TimeDelta\n",
    "                num2 = self.sigma*epsilon*np.sqrt(self.TimeDelta)\n",
    "\n",
    "                iPrice = iPrice*np.exp(num1-num2)\n",
    "\n",
    "                predited_prices.append([int(i),iPrice])\n",
    "        \n",
    "        predited_prices = pd.DataFrame(predited_prices)\n",
    "        \n",
    "        predited_prices.columns = ['day','price']\n",
    "        \n",
    "        predited_prices.set_index('day', inplace=True)\n",
    "        \n",
    "        return predited_prices\n",
    "    \n",
    "    def __repr__(self):\n",
    "        return '''\n",
    "Initial Price {0}\n",
    "Time Delta {1}\n",
    "Mu {2}\n",
    "Sigma {3}\n",
    "'''.format(self.Inital_Price,self.TimeDelta, self.mu,self.sigma)\n",
    "        "
   ]
  },
  {
   "cell_type": "markdown",
   "metadata": {},
   "source": [
    "## Monte Carlo"
   ]
  },
  {
   "cell_type": "markdown",
   "metadata": {},
   "source": [
    "### UDF"
   ]
  },
  {
   "cell_type": "code",
   "execution_count": 9,
   "metadata": {
    "ExecuteTime": {
     "end_time": "2021-04-24T21:36:19.726089Z",
     "start_time": "2021-04-24T21:36:19.717134Z"
    }
   },
   "outputs": [],
   "source": [
    "def Monte_Carlo(Inital_Price, TimeDelta, mu, sigma,\n",
    "                       n_simulations = 5000, \n",
    "                       error_type = 'Stand Norm', n_holding_days = 5):\n",
    "    \n",
    "    BM_i = Brownian_Motion(Inital_Price, TimeDelta, mu, sigma) # create brownian motion\n",
    "    \n",
    "    Simulated_DF = pd.DataFrame()\n",
    "    \n",
    "    for iSim in range(n_simulations): # For each simulation\n",
    "\n",
    "        # create simulated errors\n",
    "        Errors_i = Create_Errors(error_type,n_holding_days)\n",
    "\n",
    "        # create returns of underlying for errors\n",
    "        Simulation_i = BM_i.Simulate_Prices(Errors_i)\n",
    "        \n",
    "        # Rename column\n",
    "        Simulation_i.columns = ['Price_'+str(iSim)]\n",
    "        \n",
    "        # Add data\n",
    "        \n",
    "        Simulated_DF = pd.concat([Simulated_DF, Simulation_i],axis=1)\n",
    "        \n",
    "    return Simulated_DF"
   ]
  },
  {
   "cell_type": "markdown",
   "metadata": {},
   "source": [
    "### Computations"
   ]
  },
  {
   "cell_type": "code",
   "execution_count": 36,
   "metadata": {
    "ExecuteTime": {
     "end_time": "2021-04-23T13:26:11.805964Z",
     "start_time": "2021-04-23T13:22:51.384506Z"
    }
   },
   "outputs": [],
   "source": [
    "# I saved file, but code is rather effient -> 2 min 37 seconds to generate all needed data for 10000\n",
    "\n",
    "Data_week = Monte_Carlo(Inital_Price=Parameters['Three years'][0],\n",
    "                    TimeDelta=1,\n",
    "                    mu=Parameters['Three years'][1],\n",
    "                    sigma=Parameters['Three years'][2],\n",
    "                    n_holding_days=5,\n",
    "                    n_simulations = 10000)\n",
    "\n",
    "Data_month = Monte_Carlo(Inital_Price=Parameters['Three years'][0],\n",
    "                    TimeDelta=1,\n",
    "                    mu=Parameters['Three years'][1],\n",
    "                    sigma=Parameters['Three years'][2],\n",
    "                    n_holding_days=21,\n",
    "                    n_simulations = 10000)\n",
    "\n",
    "Data_year = Monte_Carlo(Inital_Price=Parameters['Three years'][0],\n",
    "                    TimeDelta=1,\n",
    "                    mu=Parameters['Three years'][1],\n",
    "                    sigma=Parameters['Three years'][2],\n",
    "                    n_holding_days=252,\n",
    "                    n_simulations = 10000)\n",
    "\n",
    "Data_week.to_csv('Data/Simulated_data_week.csv')\n",
    "Data_month.to_csv('Data/Simulated_data_month.csv')\n",
    "Data_year.to_csv('Data/Simulated_data_year.csv')"
   ]
  },
  {
   "cell_type": "markdown",
   "metadata": {},
   "source": [
    "### Previously computed"
   ]
  },
  {
   "cell_type": "code",
   "execution_count": 10,
   "metadata": {
    "ExecuteTime": {
     "end_time": "2021-04-24T21:36:25.998344Z",
     "start_time": "2021-04-24T21:36:23.587641Z"
    }
   },
   "outputs": [],
   "source": [
    "# I saved file, but code is rather effient -> 2 min 37 seconds to generate all needed data for 10000\n",
    "\n",
    "Data_week = pd.read_csv('Data/Simulated_data_week.csv', index_col=0)\n",
    "Data_month = pd.read_csv('Data/Simulated_data_month.csv', index_col=0)\n",
    "Data_year = pd.read_csv('Data/Simulated_data_year.csv', index_col=0)"
   ]
  },
  {
   "cell_type": "markdown",
   "metadata": {},
   "source": [
    "## LETF"
   ]
  },
  {
   "cell_type": "markdown",
   "metadata": {
    "heading_collapsed": true
   },
   "source": [
    "### UDF"
   ]
  },
  {
   "cell_type": "code",
   "execution_count": 11,
   "metadata": {
    "ExecuteTime": {
     "end_time": "2021-04-24T21:36:29.030958Z",
     "start_time": "2021-04-24T21:36:29.013006Z"
    },
    "hidden": true
   },
   "outputs": [],
   "source": [
    "def Quick_LETF_Return(Index_return, Leverage, Fees=0):\n",
    "    return Index_return*Leverage-Fees/252"
   ]
  },
  {
   "cell_type": "code",
   "execution_count": 12,
   "metadata": {
    "ExecuteTime": {
     "end_time": "2021-04-24T21:36:29.580677Z",
     "start_time": "2021-04-24T21:36:29.564720Z"
    },
    "hidden": true
   },
   "outputs": [],
   "source": [
    "def Create_LETF(Data,Leverage, Fees=0):\n",
    "    \n",
    "    NewData = Data.pct_change().fillna(0)\n",
    "\n",
    "    NewData = NewData.apply(Quick_LETF_Return, args=(Leverage,Fees))\n",
    "\n",
    "    NewData = NewData + 1\n",
    "\n",
    "    NewData = NewData.cumprod()\n",
    "    \n",
    "    return NewData"
   ]
  },
  {
   "cell_type": "code",
   "execution_count": 13,
   "metadata": {
    "ExecuteTime": {
     "end_time": "2021-04-24T21:36:30.515958Z",
     "start_time": "2021-04-24T21:36:30.500955Z"
    },
    "hidden": true
   },
   "outputs": [],
   "source": [
    "# plot it\n",
    "\n",
    "def plot_it(Simulated_Data, Name):\n",
    "    \n",
    "    plt.style.use('seaborn-ticks')\n",
    "    \n",
    "    fig, ax = plt.subplots(figsize=(16, 9))\n",
    "\n",
    "    for iKey in Simulated_Data.columns:\n",
    "\n",
    "        ax.plot(Simulated_Data[iKey], color = 'blue')\n",
    "\n",
    "    \n",
    "    ax.set(xlabel='Day', ylabel='Return',\n",
    "           title='Simulation')\n",
    "    ax.grid()\n",
    "\n",
    "    fig.savefig(\"Graphs/{0}.png\".format(str(Name)))\n",
    "    \n",
    "    plt.show()"
   ]
  },
  {
   "cell_type": "code",
   "execution_count": 14,
   "metadata": {
    "ExecuteTime": {
     "end_time": "2021-04-24T21:36:32.003088Z",
     "start_time": "2021-04-24T21:36:31.993602Z"
    },
    "hidden": true
   },
   "outputs": [],
   "source": [
    "# plot it\n",
    "\n",
    "def plot_it_2(Simulated_Data,Simulated_Data_fee):\n",
    "\n",
    "    fig, ax = plt.subplots(figsize=(16, 9))\n",
    "\n",
    "    for iKey in Simulated_Data.columns:\n",
    "\n",
    "        ax.plot(Simulated_Data[iKey], color = 'blue')\n",
    "\n",
    "    for iKey in Simulated_Data_fee.columns:\n",
    "\n",
    "        ax.plot(Simulated_Data_fee[iKey], color = 'red')\n",
    "\n",
    "    \n",
    "    ax.set(xlabel='Day', ylabel='NAV, comparative to innitial, in %',\n",
    "           title='Simulation')\n",
    "    ax.grid()\n",
    "\n",
    "    plt.show()"
   ]
  },
  {
   "cell_type": "markdown",
   "metadata": {},
   "source": [
    "### Analysis"
   ]
  },
  {
   "cell_type": "code",
   "execution_count": 47,
   "metadata": {
    "ExecuteTime": {
     "end_time": "2021-04-24T22:40:09.825474Z",
     "start_time": "2021-04-24T22:39:31.164453Z"
    }
   },
   "outputs": [],
   "source": [
    "table = pd.DataFrame(columns = ['leverage','period','min','max','median','5% percentile'])\n",
    "\n",
    "for iLeverage, iFee in [(1,0.0015),(2,0.0095),(3,0.0109),(-2,0.0095),(-3,0.0107)]:\n",
    "    \n",
    "    for iPeriod,iData in [('week',Data_week),('month',Data_month),('year',Data_year)]:\n",
    "\n",
    "        # need to create table\n",
    "        iLETF = Create_LETF(iData,iLeverage,iFee)\n",
    "        \n",
    "        table = table.append({'leverage':iLeverage,\n",
    "                      'period':iPeriod,\n",
    "                       'min':iLETF.iloc[-1,].min(),\n",
    "                       'max':iLETF.iloc[-1,].max(),\n",
    "                       'median':iLETF.iloc[-1,].median(),\n",
    "                       '5% percentile':iLETF.iloc[-1,].quantile(.05)},\n",
    "                     ignore_index=True)"
   ]
  },
  {
   "cell_type": "code",
   "execution_count": 48,
   "metadata": {
    "ExecuteTime": {
     "end_time": "2021-04-24T22:40:37.125302Z",
     "start_time": "2021-04-24T22:40:37.116332Z"
    }
   },
   "outputs": [],
   "source": [
    "# save the results\n",
    "table.to_csv('Data/Appendix_10.csv')"
   ]
  },
  {
   "cell_type": "code",
   "execution_count": 50,
   "metadata": {
    "ExecuteTime": {
     "end_time": "2021-04-24T22:49:24.783630Z",
     "start_time": "2021-04-24T22:49:24.689122Z"
    }
   },
   "outputs": [],
   "source": [
    "table.to_excel('Data/Appendix_10.xlsx', index=False)"
   ]
  },
  {
   "cell_type": "code",
   "execution_count": null,
   "metadata": {},
   "outputs": [],
   "source": []
  }
 ],
 "metadata": {
  "hide_input": false,
  "kernelspec": {
   "display_name": "Python 3",
   "language": "python",
   "name": "python3"
  },
  "language_info": {
   "codemirror_mode": {
    "name": "ipython",
    "version": 3
   },
   "file_extension": ".py",
   "mimetype": "text/x-python",
   "name": "python",
   "nbconvert_exporter": "python",
   "pygments_lexer": "ipython3",
   "version": "3.8.5"
  },
  "toc": {
   "base_numbering": 1,
   "nav_menu": {},
   "number_sections": true,
   "sideBar": true,
   "skip_h1_title": true,
   "title_cell": "Table of Contents",
   "title_sidebar": "Contents",
   "toc_cell": true,
   "toc_position": {
    "height": "calc(100% - 180px)",
    "left": "10px",
    "top": "150px",
    "width": "204.038px"
   },
   "toc_section_display": true,
   "toc_window_display": true
  }
 },
 "nbformat": 4,
 "nbformat_minor": 4
}
